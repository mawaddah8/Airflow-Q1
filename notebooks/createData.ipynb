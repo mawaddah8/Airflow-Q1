{
 "cells": [
  {
   "cell_type": "code",
   "execution_count": 3,
   "id": "1daf77db-cc3a-4a4c-9e17-e02e1579b975",
   "metadata": {},
   "outputs": [
    {
     "name": "stdout",
     "output_type": "stream",
     "text": [
      "Requirement already satisfied: psycopg2-binary in /opt/conda/lib/python3.8/site-packages (2.8.6)\n"
     ]
    }
   ],
   "source": [
    "!pip install psycopg2-binary"
   ]
  },
  {
   "cell_type": "code",
   "execution_count": 4,
   "id": "d26fab29-ad15-4be5-9295-63f63020e894",
   "metadata": {},
   "outputs": [],
   "source": [
    "try:\n",
    "    from faker import Faker\n",
    "except:\n",
    "   !pip install faker \n",
    "   from faker import Faker\n",
    "    \n",
    "try:\n",
    "    import psycopg2 \n",
    "except:\n",
    "    !pip install psycopg2-binary \n",
    "    import psycopg2\n",
    "    \n",
    "try:\n",
    "    from sqlalchemy import create_engine\n",
    "except:\n",
    "    !pip install sqlalchemy\n",
    "    from sqlalchemy import create_engine\n",
    "    \n",
    "    \n",
    "try:\n",
    "    import pandas as pd \n",
    "except:\n",
    "    !pip install pandas\n",
    "    import pandas as pd"
   ]
  },
  {
   "cell_type": "code",
   "execution_count": 5,
   "id": "cd6e323f-37cf-49db-993e-ea3da55bd9cc",
   "metadata": {},
   "outputs": [
    {
     "name": "stdout",
     "output_type": "stream",
     "text": [
      "[]\n"
     ]
    },
    {
     "name": "stderr",
     "output_type": "stream",
     "text": [
      "<ipython-input-5-8b9b9557a8b0>:10: SADeprecationWarning: The Engine.table_names() method is deprecated and will be removed in a future release.  Please refer to Inspector.get_table_names(). (deprecated since: 1.4)\n",
      "  print(engine.table_names())\n"
     ]
    }
   ],
   "source": [
    "from sqlalchemy import create_engine\n",
    "import psycopg2\n",
    "\n",
    "host=\"postgres_data\" # use \"localhost\" if you access from outside the localnet docker-compose env \n",
    "database=\"testDB\"\n",
    "user=\"me\"\n",
    "password=\"1234\"\n",
    "port='5432'\n",
    "engine = create_engine(f'postgresql://{user}:{password}@{host}:{port}/{database}')\n",
    "print(engine.table_names())"
   ]
  },
  {
   "cell_type": "code",
   "execution_count": 7,
   "id": "499404c4-105a-45d7-9e54-991c1b07dcc7",
   "metadata": {},
   "outputs": [
    {
     "data": {
      "text/html": [
       "<div>\n",
       "<style scoped>\n",
       "    .dataframe tbody tr th:only-of-type {\n",
       "        vertical-align: middle;\n",
       "    }\n",
       "\n",
       "    .dataframe tbody tr th {\n",
       "        vertical-align: top;\n",
       "    }\n",
       "\n",
       "    .dataframe thead th {\n",
       "        text-align: right;\n",
       "    }\n",
       "</style>\n",
       "<table border=\"1\" class=\"dataframe\">\n",
       "  <thead>\n",
       "    <tr style=\"text-align: right;\">\n",
       "      <th></th>\n",
       "      <th>name</th>\n",
       "      <th>age</th>\n",
       "      <th>street</th>\n",
       "      <th>city</th>\n",
       "      <th>state</th>\n",
       "      <th>zip</th>\n",
       "      <th>lng</th>\n",
       "      <th>lat</th>\n",
       "    </tr>\n",
       "  </thead>\n",
       "  <tbody>\n",
       "    <tr>\n",
       "      <th>0</th>\n",
       "      <td>Antonio Johnson</td>\n",
       "      <td>40</td>\n",
       "      <td>802 Justin Pass Suite 099</td>\n",
       "      <td>Samuelport</td>\n",
       "      <td>North Carolina</td>\n",
       "      <td>74108</td>\n",
       "      <td>-72.554197</td>\n",
       "      <td>-29.974500</td>\n",
       "    </tr>\n",
       "    <tr>\n",
       "      <th>1</th>\n",
       "      <td>John Barnes</td>\n",
       "      <td>23</td>\n",
       "      <td>2833 Lisa Harbor Apt. 364</td>\n",
       "      <td>Mitchellborough</td>\n",
       "      <td>Massachusetts</td>\n",
       "      <td>30507</td>\n",
       "      <td>-106.019903</td>\n",
       "      <td>-46.986939</td>\n",
       "    </tr>\n",
       "    <tr>\n",
       "      <th>2</th>\n",
       "      <td>Megan Martin</td>\n",
       "      <td>42</td>\n",
       "      <td>5379 Sherman Village Apt. 136</td>\n",
       "      <td>West Amyhaven</td>\n",
       "      <td>Virginia</td>\n",
       "      <td>87437</td>\n",
       "      <td>-8.894662</td>\n",
       "      <td>-38.265349</td>\n",
       "    </tr>\n",
       "    <tr>\n",
       "      <th>3</th>\n",
       "      <td>Madison Bryant</td>\n",
       "      <td>79</td>\n",
       "      <td>929 Perry Keys Apt. 812</td>\n",
       "      <td>West Melindaland</td>\n",
       "      <td>Indiana</td>\n",
       "      <td>11721</td>\n",
       "      <td>-71.963429</td>\n",
       "      <td>-23.547724</td>\n",
       "    </tr>\n",
       "    <tr>\n",
       "      <th>4</th>\n",
       "      <td>Jennifer Ferguson</td>\n",
       "      <td>19</td>\n",
       "      <td>013 Mcdonald Summit Apt. 499</td>\n",
       "      <td>Roberttown</td>\n",
       "      <td>Oklahoma</td>\n",
       "      <td>65310</td>\n",
       "      <td>-64.004111</td>\n",
       "      <td>72.046041</td>\n",
       "    </tr>\n",
       "  </tbody>\n",
       "</table>\n",
       "</div>"
      ],
      "text/plain": [
       "                name  age                         street              city  \\\n",
       "0    Antonio Johnson   40      802 Justin Pass Suite 099        Samuelport   \n",
       "1        John Barnes   23      2833 Lisa Harbor Apt. 364   Mitchellborough   \n",
       "2       Megan Martin   42  5379 Sherman Village Apt. 136     West Amyhaven   \n",
       "3     Madison Bryant   79        929 Perry Keys Apt. 812  West Melindaland   \n",
       "4  Jennifer Ferguson   19   013 Mcdonald Summit Apt. 499        Roberttown   \n",
       "\n",
       "            state    zip         lng        lat  \n",
       "0  North Carolina  74108  -72.554197 -29.974500  \n",
       "1   Massachusetts  30507 -106.019903 -46.986939  \n",
       "2        Virginia  87437   -8.894662 -38.265349  \n",
       "3         Indiana  11721  -71.963429 -23.547724  \n",
       "4        Oklahoma  65310  -64.004111  72.046041  "
      ]
     },
     "execution_count": 7,
     "metadata": {},
     "output_type": "execute_result"
    }
   ],
   "source": [
    "from faker import Faker\n",
    "import csv\n",
    "import pandas as pd \n",
    "output=open('data.csv','w')\n",
    "fake=Faker()\n",
    "header=['name','age','street','city','state','zip','lng','lat']\n",
    "mywriter=csv.writer(output)\n",
    "mywriter.writerow(header)\n",
    "for r in range(100):\n",
    "    row =[fake.name(),fake.random_int(min=18,max=80, step=1), \n",
    "                       fake.street_address(), fake.city(),fake.state(),\n",
    "                       fake.zipcode(),fake.longitude(),fake.latitude()]\n",
    "    mywriter.writerow(row)\n",
    "output.close()\n",
    "DF=pd.read_csv('data.csv')\n",
    "DF.head(5)"
   ]
  },
  {
   "cell_type": "code",
   "execution_count": 8,
   "id": "18af53d8-85d8-4376-b910-2c34c5208d0c",
   "metadata": {},
   "outputs": [],
   "source": [
    "DF.to_sql('users2020', engine, if_exists='replace',index=False)\n"
   ]
  },
  {
   "cell_type": "code",
   "execution_count": 9,
   "id": "5b5f5eb6-e112-4b94-a7bb-064a3858201d",
   "metadata": {},
   "outputs": [],
   "source": [
    "DF2=pd.read_sql(\"SELECT * FROM users2020\" , engine);"
   ]
  },
  {
   "cell_type": "code",
   "execution_count": 10,
   "id": "7ca1b148-ac3a-49cc-a093-a811720d99c0",
   "metadata": {},
   "outputs": [
    {
     "data": {
      "text/html": [
       "<div>\n",
       "<style scoped>\n",
       "    .dataframe tbody tr th:only-of-type {\n",
       "        vertical-align: middle;\n",
       "    }\n",
       "\n",
       "    .dataframe tbody tr th {\n",
       "        vertical-align: top;\n",
       "    }\n",
       "\n",
       "    .dataframe thead th {\n",
       "        text-align: right;\n",
       "    }\n",
       "</style>\n",
       "<table border=\"1\" class=\"dataframe\">\n",
       "  <thead>\n",
       "    <tr style=\"text-align: right;\">\n",
       "      <th></th>\n",
       "      <th>name</th>\n",
       "      <th>age</th>\n",
       "      <th>street</th>\n",
       "      <th>city</th>\n",
       "      <th>state</th>\n",
       "      <th>zip</th>\n",
       "      <th>lng</th>\n",
       "      <th>lat</th>\n",
       "    </tr>\n",
       "  </thead>\n",
       "  <tbody>\n",
       "    <tr>\n",
       "      <th>0</th>\n",
       "      <td>Antonio Johnson</td>\n",
       "      <td>40</td>\n",
       "      <td>802 Justin Pass Suite 099</td>\n",
       "      <td>Samuelport</td>\n",
       "      <td>North Carolina</td>\n",
       "      <td>74108</td>\n",
       "      <td>-72.554197</td>\n",
       "      <td>-29.974500</td>\n",
       "    </tr>\n",
       "    <tr>\n",
       "      <th>1</th>\n",
       "      <td>John Barnes</td>\n",
       "      <td>23</td>\n",
       "      <td>2833 Lisa Harbor Apt. 364</td>\n",
       "      <td>Mitchellborough</td>\n",
       "      <td>Massachusetts</td>\n",
       "      <td>30507</td>\n",
       "      <td>-106.019903</td>\n",
       "      <td>-46.986939</td>\n",
       "    </tr>\n",
       "    <tr>\n",
       "      <th>2</th>\n",
       "      <td>Megan Martin</td>\n",
       "      <td>42</td>\n",
       "      <td>5379 Sherman Village Apt. 136</td>\n",
       "      <td>West Amyhaven</td>\n",
       "      <td>Virginia</td>\n",
       "      <td>87437</td>\n",
       "      <td>-8.894662</td>\n",
       "      <td>-38.265349</td>\n",
       "    </tr>\n",
       "    <tr>\n",
       "      <th>3</th>\n",
       "      <td>Madison Bryant</td>\n",
       "      <td>79</td>\n",
       "      <td>929 Perry Keys Apt. 812</td>\n",
       "      <td>West Melindaland</td>\n",
       "      <td>Indiana</td>\n",
       "      <td>11721</td>\n",
       "      <td>-71.963429</td>\n",
       "      <td>-23.547724</td>\n",
       "    </tr>\n",
       "    <tr>\n",
       "      <th>4</th>\n",
       "      <td>Jennifer Ferguson</td>\n",
       "      <td>19</td>\n",
       "      <td>013 Mcdonald Summit Apt. 499</td>\n",
       "      <td>Roberttown</td>\n",
       "      <td>Oklahoma</td>\n",
       "      <td>65310</td>\n",
       "      <td>-64.004111</td>\n",
       "      <td>72.046041</td>\n",
       "    </tr>\n",
       "  </tbody>\n",
       "</table>\n",
       "</div>"
      ],
      "text/plain": [
       "                name  age                         street              city  \\\n",
       "0    Antonio Johnson   40      802 Justin Pass Suite 099        Samuelport   \n",
       "1        John Barnes   23      2833 Lisa Harbor Apt. 364   Mitchellborough   \n",
       "2       Megan Martin   42  5379 Sherman Village Apt. 136     West Amyhaven   \n",
       "3     Madison Bryant   79        929 Perry Keys Apt. 812  West Melindaland   \n",
       "4  Jennifer Ferguson   19   013 Mcdonald Summit Apt. 499        Roberttown   \n",
       "\n",
       "            state    zip         lng        lat  \n",
       "0  North Carolina  74108  -72.554197 -29.974500  \n",
       "1   Massachusetts  30507 -106.019903 -46.986939  \n",
       "2        Virginia  87437   -8.894662 -38.265349  \n",
       "3         Indiana  11721  -71.963429 -23.547724  \n",
       "4        Oklahoma  65310  -64.004111  72.046041  "
      ]
     },
     "execution_count": 10,
     "metadata": {},
     "output_type": "execute_result"
    }
   ],
   "source": [
    "DF2.head(5)\n"
   ]
  },
  {
   "cell_type": "code",
   "execution_count": 11,
   "id": "2ddae9d7-8748-4a1f-a86c-91c9f822fcab",
   "metadata": {},
   "outputs": [
    {
     "data": {
      "text/html": [
       "<div>\n",
       "<style scoped>\n",
       "    .dataframe tbody tr th:only-of-type {\n",
       "        vertical-align: middle;\n",
       "    }\n",
       "\n",
       "    .dataframe tbody tr th {\n",
       "        vertical-align: top;\n",
       "    }\n",
       "\n",
       "    .dataframe thead th {\n",
       "        text-align: right;\n",
       "    }\n",
       "</style>\n",
       "<table border=\"1\" class=\"dataframe\">\n",
       "  <thead>\n",
       "    <tr style=\"text-align: right;\">\n",
       "      <th></th>\n",
       "      <th>count</th>\n",
       "    </tr>\n",
       "  </thead>\n",
       "  <tbody>\n",
       "    <tr>\n",
       "      <th>0</th>\n",
       "      <td>172</td>\n",
       "    </tr>\n",
       "  </tbody>\n",
       "</table>\n",
       "</div>"
      ],
      "text/plain": [
       "   count\n",
       "0    172"
      ]
     },
     "execution_count": 11,
     "metadata": {},
     "output_type": "execute_result"
    }
   ],
   "source": [
    "Count_records=pd.read_sql(\"SELECT COUNT(*) FROM users2020\" , engine);\n",
    "Count_records"
   ]
  },
  {
   "cell_type": "code",
   "execution_count": null,
   "id": "5fd2f1fb-a437-41bb-85ea-1400f4028124",
   "metadata": {},
   "outputs": [],
   "source": []
  }
 ],
 "metadata": {
  "kernelspec": {
   "display_name": "Python 3",
   "language": "python",
   "name": "python3"
  },
  "language_info": {
   "codemirror_mode": {
    "name": "ipython",
    "version": 3
   },
   "file_extension": ".py",
   "mimetype": "text/x-python",
   "name": "python",
   "nbconvert_exporter": "python",
   "pygments_lexer": "ipython3",
   "version": "3.8.8"
  }
 },
 "nbformat": 4,
 "nbformat_minor": 5
}
